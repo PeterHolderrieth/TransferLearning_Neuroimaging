{
 "cells": [
  {
   "cell_type": "code",
   "execution_count": null,
   "id": "peaceful-index",
   "metadata": {},
   "outputs": [],
   "source": []
  },
  {
   "cell_type": "code",
   "execution_count": 97,
   "id": "green-learning",
   "metadata": {},
   "outputs": [],
   "source": [
    "from mpl_toolkits.mplot3d.art3d import Poly3DCollection\n",
    "import matplotlib.pyplot as plt\n",
    "import numpy as np\n",
    "from skimage import measure\n",
    "from mpl_toolkits.mplot3d import Axes3D\n",
    "from matplotlib.patches import FancyArrowPatch\n",
    "from mpl_toolkits.mplot3d import proj3d\n",
    "\n",
    "class Arrow3D(FancyArrowPatch):\n",
    "    def __init__(self, xs, ys, zs, *args, **kwargs):\n",
    "        FancyArrowPatch.__init__(self, (0,0), (0,0), *args, **kwargs)\n",
    "        self._verts3d = xs, ys, zs\n",
    "\n",
    "    def draw(self, renderer):\n",
    "        xs3d, ys3d, zs3d = self._verts3d\n",
    "        xs, ys, zs = proj3d.proj_transform(xs3d, ys3d, zs3d, renderer.M)\n",
    "        self.set_positions((xs[0],ys[0]),(xs[1],ys[1]))\n",
    "        FancyArrowPatch.draw(self, renderer)\n",
    "        \n",
    "\n",
    "def plot_3d(image, fig,ax,threshold=-300): \n",
    "    p = image#image.transpose(2,1,0)\n",
    "    verts, faces, normals, values = measure.marching_cubes_lewiner(p, threshold)\n",
    "    mesh = Poly3DCollection(verts[faces], alpha=0.1)\n",
    "    face_color = [0.5, 0.5, 1]\n",
    "    mesh.set_facecolor(face_color)\n",
    "    ax.add_collection3d(mesh)\n",
    "    ax.set_xlim(0, p.shape[0])\n",
    "    ax.set_ylim(0, p.shape[1])\n",
    "    ax.set_zlim(0, p.shape[2])\n",
    "\n",
    "    return fig,ax"
   ]
  },
  {
   "cell_type": "code",
   "execution_count": 105,
   "id": "varied-valve",
   "metadata": {},
   "outputs": [
    {
     "name": "stdout",
     "output_type": "stream",
     "text": [
      "['MR_ID', 'Subject', 'Age', 'Scanner', 'Scans', 'FreeSurfers', 'PUPs', 'Date', 'T1_path', 'ADRC_ADRCCLINICALDATA ID', 'Date_after_clinical', 'AgeBasedOnClinicalData']\n",
      "Loading share 1.00  test data.\n"
     ]
    }
   ],
   "source": [
    "from data.load_dataset import give_dataset\n",
    "import numpy as np \n",
    "dataset,_=give_dataset('oasis','test', batch_size=1,\n",
    "                                                num_workers=4,\n",
    "                                                shuffle=True,\n",
    "                                                debug=False,\n",
    "                                                preprocessing='full',\n",
    "                                                task='age',\n",
    "                                                share=1.0,\n",
    "                                                balance=False)\n",
    "x,y=next(iter(dataset))"
   ]
  },
  {
   "cell_type": "code",
   "execution_count": 106,
   "id": "statewide-insulin",
   "metadata": {},
   "outputs": [],
   "source": [
    "x=x.squeeze()\n",
    "x=x.numpy()\n",
    "threshold=1.5*x.mean()\n",
    "x_ab,y_ab,z_ab=x.shape\n",
    "#Cut out one \n",
    "# for idx in range(int(x_ab/4),x_ab):\n",
    "#     for idy in range(0,int(3*y_ab/4)):\n",
    "#         for idz in range(int(z_ab/4),z_ab):\n",
    "#             x[idx,idy,idz]=0.0\n",
    "#x=np.flip(x, 1)\n"
   ]
  },
  {
   "cell_type": "code",
   "execution_count": null,
   "id": "excess-helen",
   "metadata": {},
   "outputs": [
    {
     "name": "stderr",
     "output_type": "stream",
     "text": [
      "/gpfs3/users/win-fmrib-analysis/lhw539/python/tlneuro-ivybridge/lib/python3.7/site-packages/ipykernel_launcher.py:23: FutureWarning: marching_cubes_lewiner is deprecated in favor of marching_cubes. marching_cubes_lewiner will be removed in version 0.19\n"
     ]
    }
   ],
   "source": [
    "fig = plt.figure(figsize=(20, 10))\n",
    "ax1 = fig.add_subplot(121, projection='3d')\n",
    "ax1.set_title(\"(a) Translation\")\n",
    "plot_3d(x,fig,ax1,threshold)\n",
    "\n",
    "arrow_length=40\n",
    "\n",
    "for fac in [-1,1]:\n",
    "    a = Arrow3D([x.shape[0]/2,x.shape[0]/2+fac*arrow_length], [x.shape[1]/2, x.shape[1]/2], \n",
    "                [x.shape[2]/2,x.shape[2]/2], mutation_scale=20, \n",
    "                lw=3, arrowstyle=\"-|>\", color=\"r\",label='x')\n",
    "    ax1.add_artist(a)\n",
    "    b = Arrow3D([x.shape[0]/2,x.shape[0]/2], [x.shape[1]/2, x.shape[1]/2+fac*arrow_length], \n",
    "               [x.shape[2]/2,x.shape[2]/2], mutation_scale=20, \n",
    "               lw=3, arrowstyle=\"-|>\", color=\"r\",label='y')\n",
    "    ax1.add_artist(b)\n",
    "    c = Arrow3D([x.shape[0]/2,x.shape[0]/2], [x.shape[1]/2, x.shape[1]/2], \n",
    "                [x.shape[2]/2,x.shape[2]/2+fac*arrow_length], mutation_scale=20, \n",
    "                lw=3, arrowstyle=\"-|>\", color=\"r\",label='z')\n",
    "    ax1.add_artist(c)\n",
    "\n",
    "ax2 = fig.add_subplot(122, projection='3d')\n",
    "ax2.set_title(\"(b) Mirror\")\n",
    "surf=ax2.plot_surface(X, Y, Z, alpha=0.3,color='r')\n",
    "plot_3d(x,fig,ax2,threshold)\n",
    "x_grid = np.linspace(-1,x.shape[1],int(x.shape[1]))\n",
    "y_grid = np.linspace(-1,x.shape[2],int(x.shape[2]))\n",
    "\n",
    "Y,Z = np.meshgrid(x_grid,y_grid)\n",
    "X=x.shape[0]/2 + 0*Y + 0*Z\n",
    "\n",
    "fig.show()\n",
    "plt.savefig(\"visualization/plots/data_augmentation_plot.png\")"
   ]
  },
  {
   "cell_type": "code",
   "execution_count": null,
   "id": "compact-clothing",
   "metadata": {},
   "outputs": [],
   "source": []
  },
  {
   "cell_type": "code",
   "execution_count": null,
   "id": "general-syria",
   "metadata": {},
   "outputs": [],
   "source": []
  }
 ],
 "metadata": {
  "kernelspec": {
   "display_name": "Python 3",
   "language": "python",
   "name": "python3"
  },
  "language_info": {
   "codemirror_mode": {
    "name": "ipython",
    "version": 3
   },
   "file_extension": ".py",
   "mimetype": "text/x-python",
   "name": "python",
   "nbconvert_exporter": "python",
   "pygments_lexer": "ipython3",
   "version": "3.7.4"
  }
 },
 "nbformat": 4,
 "nbformat_minor": 5
}
