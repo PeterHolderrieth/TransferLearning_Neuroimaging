{
 "cells": [
  {
   "cell_type": "code",
   "execution_count": 62,
   "id": "recorded-target",
   "metadata": {},
   "outputs": [],
   "source": [
    "import matplotlib.pyplot as plt\n",
    "import numpy as np\n",
    "from data.load_dataset import give_dataset\n"
   ]
  },
  {
   "cell_type": "code",
   "execution_count": 63,
   "id": "talented-calculator",
   "metadata": {},
   "outputs": [
    {
     "name": "stdout",
     "output_type": "stream",
     "text": [
      "Loading share 1.00 of UKB  test data.\n",
      "['MR_ID', 'Subject', 'Age', 'Scanner', 'Scans', 'FreeSurfers', 'PUPs', 'Date', 'T1_path', 'ADRC_ADRCCLINICALDATA ID', 'Date_after_clinical', 'AgeBasedOnClinicalData']\n",
      "Loading share 1.00  test data.\n",
      "Loading ixi  test data.\n",
      "Loading ABIDE  test data.\n"
     ]
    }
   ],
   "source": [
    "df_hm={}\n",
    "origin_list=['ukb','oasis','ixi','abide']\n",
    "for origin in origin_list:\n",
    "    _,df_hm[origin]=give_dataset(origin,'test', batch_size=1,\n",
    "                                                num_workers=4,\n",
    "                                                shuffle=True,\n",
    "                                                debug=False,\n",
    "                                                preprocessing='none',\n",
    "                                                task='age',\n",
    "                                                share=1.0,\n",
    "                                                balance=False)"
   ]
  },
  {
   "cell_type": "code",
   "execution_count": null,
   "id": "absolute-episode",
   "metadata": {},
   "outputs": [],
   "source": [
    "nsamples=7\n",
    "scale=3.\n",
    "ind_slice=84\n",
    "fig,ax=plt.subplots(ncols=4,nrows=nsamples,figsize=(scale*4,0.9*nsamples*scale))\n",
    "\n",
    "for idy, origin in enumerate(origin_list):\n",
    "    for idx in range(nsamples):\n",
    "        image,_=next(iter(df_hm[origin]))\n",
    "        image=image.squeeze()\n",
    "        image_slice=image[:,:,ind_slice]\n",
    "        ax[idx,idy].imshow(image_slice,'gray')#,vmin=0.,vmax=8.)\n",
    "        ax[idx,idy].axis('off')\n",
    "        ax[idx,idy].set_title(origin + \" | sample: \"+str(idy))\n",
    "        \n",
    "# for idy, origin in enumerate(origin_list):\n",
    "#     ax[0,idy].set_title(origin)\n",
    "    \n",
    "# for idx in range(ncols):\n",
    "#     ax[idx,0].set_ylabel(idx)\n",
    "\n",
    "plt.tight_layout(h_pad=1., w_pad=1.)\n",
    "plt.savefig('visualization/plots/examples_from_data.png')\n",
    "    "
   ]
  },
  {
   "cell_type": "code",
   "execution_count": null,
   "id": "suspected-vegetarian",
   "metadata": {},
   "outputs": [],
   "source": []
  }
 ],
 "metadata": {
  "kernelspec": {
   "display_name": "Python 3",
   "language": "python",
   "name": "python3"
  },
  "language_info": {
   "codemirror_mode": {
    "name": "ipython",
    "version": 3
   },
   "file_extension": ".py",
   "mimetype": "text/x-python",
   "name": "python",
   "nbconvert_exporter": "python",
   "pygments_lexer": "ipython3",
   "version": "3.7.4"
  }
 },
 "nbformat": 4,
 "nbformat_minor": 5
}
