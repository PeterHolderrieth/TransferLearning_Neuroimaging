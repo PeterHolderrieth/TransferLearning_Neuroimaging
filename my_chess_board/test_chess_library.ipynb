{
 "cells": [
  {
   "cell_type": "code",
   "execution_count": null,
   "id": "postal-wyoming",
   "metadata": {},
   "outputs": [],
   "source": [
    "import chess\n",
    "\n",
    "board = chess.Board()"
   ]
  },
  {
   "cell_type": "code",
   "execution_count": null,
   "id": "portuguese-territory",
   "metadata": {},
   "outputs": [],
   "source": [
    ">>> board.legal_moves\n",
    "<LegalMoveGenerator at ... (Nh3, Nf3, Nc3, Na3, h3, g3, f3, e3, d3, c3, ...)>\n",
    ">>> chess.Move.from_uci(\"a8a1\") in board.legal_moves\n",
    "False\n",
    "\n",
    ">>> board.push_san(\"e4\")\n",
    "Move.from_uci('e2e4')\n",
    ">>> board.push_san(\"e5\")\n",
    "Move.from_uci('e7e5')\n",
    ">>> board.push_san(\"Qh5\")\n",
    "Move.from_uci('d1h5')\n",
    ">>> board.push_san(\"Nc6\")\n",
    "Move.from_uci('b8c6')\n",
    ">>> board.push_san(\"Bc4\")\n",
    "Move.from_uci('f1c4')\n",
    ">>> board.push_san(\"Nf6\")\n",
    "Move.from_uci('g8f6')\n",
    ">>> board.push_san(\"Qxf7\")\n",
    "Move.from_uci('h5f7')\n",
    "\n",
    ">>> board.is_checkmate()\n",
    "True\n",
    "\n",
    ">>> board\n",
    "Board('r1bqkb1r/pppp1Qpp/2n2n2/4p3/2B1P3/8/PPPP1PPP/RNB1K1NR b KQkq - 0 4')"
   ]
  }
 ],
 "metadata": {
  "kernelspec": {
   "display_name": "Python 3",
   "language": "python",
   "name": "python3"
  }
 },
 "nbformat": 4,
 "nbformat_minor": 5
}
