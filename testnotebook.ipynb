{
 "cells": [
  {
   "cell_type": "code",
   "execution_count": 1,
   "metadata": {},
   "outputs": [
    {
     "name": "stdout",
     "output_type": "stream",
     "text": [
      "Package                           Version\r\n",
      "--------------------------------- -----------\r\n",
      "-edi                              0.18.0\r\n",
      "-ornado                           6.1\r\n",
      "absl-py                           0.11.0\r\n",
      "backcall                          0.1.0\r\n",
      "bleach                            3.1.0\r\n",
      "cachetools                        4.2.0\r\n",
      "certifi                           2020.12.5\r\n",
      "chardet                           4.0.0\r\n",
      "cycler                            0.10.0\r\n",
      "decorator                         4.4.2\r\n",
      "defusedxml                        0.6.0\r\n",
      "entrypoints                       0.3\r\n",
      "google-auth                       1.24.0\r\n",
      "google-auth-oauthlib              0.4.2\r\n",
      "grpcio                            1.34.0\r\n",
      "html5lib                          1.0.1\r\n",
      "idna                              2.10\r\n",
      "importlib-metadata                3.3.0\r\n",
      "ipykernel                         5.1.3\r\n",
      "ipython                           7.9.0\r\n",
      "ipython-genutils                  0.2.0\r\n",
      "ipywidgets                        7.5.1\r\n",
      "jedi                              0.15.1\r\n",
      "jsonschema                        3.1.1\r\n",
      "jupyter-client                    5.3.4\r\n",
      "jupyter-contrib-core              0.3.3\r\n",
      "jupyter-core                      4.6.1\r\n",
      "jupyter-nbextensions-configurator 0.4.1\r\n",
      "kiwisolver                        1.1.0\r\n",
      "Markdown                          3.3.3\r\n",
      "matplotlib                        3.1.1\r\n",
      "mistune                           0.8.4\r\n",
      "mpi4py                            3.0.2\r\n",
      "mpmath                            1.1.0\r\n",
      "nbconvert                         5.6.1\r\n",
      "nbformat                          4.4.0\r\n",
      "nibabel                           3.2.1\r\n",
      "notebook                          6.0.2\r\n",
      "numpy                             1.17.3\r\n",
      "oauthlib                          3.1.0\r\n",
      "packaging                         20.8\r\n",
      "pandas                            0.25.3\r\n",
      "pandocfilters                     1.4.2\r\n",
      "parso                             0.5.1\r\n",
      "pexpect                           4.7.0\r\n",
      "pickleshare                       0.7.5\r\n",
      "Pillow                            8.1.0\r\n",
      "pip                               20.3.3\r\n",
      "prettytable                       2.0.0\r\n",
      "prometheus-client                 0.7.1\r\n",
      "prompt-toolkit                    2.0.10\r\n",
      "protobuf                          3.14.0\r\n",
      "ptyprocess                        0.6.0\r\n",
      "pyasn1                            0.4.8\r\n",
      "pyasn1-modules                    0.2.8\r\n",
      "Pygments                          2.7.3\r\n",
      "pyparsing                         2.4.7\r\n",
      "pyrsistent                        0.15.5\r\n",
      "python-dateutil                   2.8.1\r\n",
      "pytz                              2020.5\r\n",
      "PyYAML                            5.1.2\r\n",
      "pyzmq                             18.1.1\r\n",
      "requests                          2.25.1\r\n",
      "requests-oauthlib                 1.3.0\r\n",
      "rsa                               4.6\r\n",
      "scipy                             1.3.1\r\n",
      "Send2Trash                        1.5.0\r\n",
      "setuptools                        51.3.3\r\n",
      "simplegeneric                     0.8.1\r\n",
      "six                               1.15.0\r\n",
      "tensorboard                       2.4.0\r\n",
      "tensorboard-plugin-wit            1.7.0\r\n",
      "terminado                         0.8.3\r\n",
      "testpath                          0.4.4\r\n",
      "torch                             1.7.1+cu101\r\n",
      "torchaudio                        0.7.2\r\n",
      "torchvision                       0.8.2+cu101\r\n",
      "tornado                           6.0.3\r\n",
      "traitlets                         4.3.3\r\n",
      "typing-extensions                 3.7.4.3\r\n",
      "urllib3                           1.26.2\r\n",
      "vcversioner                       2.16.0.0\r\n",
      "wcwidth                           0.1.7\r\n",
      "webencodings                      0.5.1\r\n",
      "Werkzeug                          1.0.1\r\n",
      "wheel                             0.36.2\r\n",
      "widgetsnbextension                3.5.1\r\n",
      "zipp                              3.4.0\r\n"
     ]
    }
   ],
   "source": [
    "!pip list"
   ]
  },
  {
   "cell_type": "code",
   "execution_count": 5,
   "metadata": {},
   "outputs": [],
   "source": [
    "import os "
   ]
  },
  {
   "cell_type": "code",
   "execution_count": 3,
   "metadata": {},
   "outputs": [
    {
     "name": "stdout",
     "output_type": "stream",
     "text": [
      "/apps/eb/skylake/software/Python/3.7.4-GCCcore-8.3.0/lib/python3.7/os.py\n"
     ]
    }
   ],
   "source": [
    "print(os.__file__)\n"
   ]
  }
 ],
 "metadata": {
  "kernelspec": {
   "display_name": "Python 3",
   "language": "python",
   "name": "python3"
  },
  "language_info": {
   "codemirror_mode": {
    "name": "ipython",
    "version": 3
   },
   "file_extension": ".py",
   "mimetype": "text/x-python",
   "name": "python",
   "nbconvert_exporter": "python",
   "pygments_lexer": "ipython3",
   "version": "3.7.4"
  }
 },
 "nbformat": 4,
 "nbformat_minor": 2
}
