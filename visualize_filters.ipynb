{
 "cells": [
  {
   "cell_type": "code",
   "execution_count": 1,
   "id": "weighted-patrol",
   "metadata": {},
   "outputs": [],
   "source": [
    "import numpy as np \n",
    "import torch \n",
    "from torch.autograd import Variable\n",
    "import sys \n",
    "from sfcn.sfcn_load import give_pretrained_sfcn\n",
    "from data.oasis.load_oasis3 import give_oasis_data\n",
    "import matplotlib.pyplot as plt \n",
    "from matplotlib.colors import Normalize"
   ]
  },
  {
   "cell_type": "code",
   "execution_count": 2,
   "id": "heavy-overhead",
   "metadata": {},
   "outputs": [
    {
     "name": "stdout",
     "output_type": "stream",
     "text": [
      "Load model for age - run: 0\n",
      "Number of GPUs:  4\n"
     ]
    }
   ],
   "source": [
    "model=give_pretrained_sfcn(\"0\", \"age\")\n",
    "device = torch.device(\"cuda:0\" if torch.cuda.is_available() else \"cpu\")\n",
    "print(\"Number of GPUs: \", torch.cuda.device_count())\n",
    "model=model.to(device)"
   ]
  },
  {
   "cell_type": "code",
   "execution_count": 58,
   "id": "wound-disorder",
   "metadata": {},
   "outputs": [
    {
     "data": {
      "image/png": "[encoded data removed]",
      "text/plain": [
       "<Figure size 288x288 with 16 Axes>"
      ]
     },
     "metadata": {
      "needs_background": "light"
     },
     "output_type": "display_data"
    }
   ],
   "source": [
    "import matplotlib.pyplot as plt\n",
    "import matplotlib.gridspec as gridspec\n",
    "\n",
    "plt.figure(figsize = (4,4))\n",
    "gs1 = gridspec.GridSpec(4, 4)\n",
    "gs1.update(wspace=0.025, hspace=0.05) # set the spacing between axes. \n",
    "\n",
    "for i in range(16):\n",
    "   # i = i + 1 # grid spec indexes from 0\n",
    "    ax1 = plt.subplot(gs1[i])\n",
    "    ax1.set_xticklabels([])\n",
    "    ax1.set_yticklabels([])\n",
    "    ax1.set_aspect('equal')\n",
    "\n",
    "plt.show()"
   ]
  },
  {
   "cell_type": "code",
   "execution_count": 25,
   "id": "destroyed-combination",
   "metadata": {},
   "outputs": [
    {
     "data": {
      "image/png": "[encoded data removed]",
      "text/plain": [
       "<Figure size 2304x216 with 96 Axes>"
      ]
     },
     "metadata": {
      "needs_background": "light"
     },
     "output_type": "display_data"
    }
   ],
   "source": [
    "conv_layer_1=model.module.feature_extractor[0][0]\n",
    "kernels=conv_layer_1.weight.data.squeeze().cpu().detach()\n",
    "n_channels=kernels.shape[0]\n",
    "fig,ax=plt.subplots(nrows=3,ncols=n_channels,figsize=(n_channels,3))\n",
    "for i in range(n_channels):\n",
    "    for j in range(3):\n",
    "        ax[j][i].imshow(kernels[i][j],'gray')\n",
    "        ax[j][i].axis('off')\n",
    "\n",
    "plt.subplots_adjust(wspace=0.1, hspace=0)\n",
    "\n"
   ]
  },
  {
   "cell_type": "code",
   "execution_count": 78,
   "id": "representative-nowhere",
   "metadata": {},
   "outputs": [
    {
     "name": "stdout",
     "output_type": "stream",
     "text": [
      "<matplotlib.colors.Normalize object at 0x7f493f707090>\n"
     ]
    }
   ],
   "source": []
  },
  {
   "cell_type": "code",
   "execution_count": 27,
   "id": "demonstrated-government",
   "metadata": {},
   "outputs": [
    {
     "data": {
      "image/png": "[encoded data removed]",
      "text/plain": [
       "<Figure size 2304x216 with 96 Axes>"
      ]
     },
     "metadata": {
      "needs_background": "light"
     },
     "output_type": "display_data"
    }
   ],
   "source": [
    "conv_layer_1=model.module.feature_extractor[0][0]\n",
    "kernels=conv_layer_1.weight.data.squeeze().cpu().detach()\n",
    "n_channels=kernels.shape[0]\n",
    "fig,ax=plt.subplots(nrows=3,ncols=n_channels,figsize=(n_channels,3))\n",
    "for i in range(n_channels):\n",
    "    for j in range(3):\n",
    "        ax[j][i].imshow(kernels[i][j],'gray',norm=nm_kernel)\n",
    "        ax[j][i].axis('off')\n",
    "\n",
    "plt.subplots_adjust(wspace=0.1, hspace=0)"
   ]
  },
  {
   "cell_type": "code",
   "execution_count": 57,
   "id": "polyphonic-correction",
   "metadata": {},
   "outputs": [],
   "source": [
    "def plot_3d_kernels(kernels):\n",
    "    \n",
    "    n_in_channels=kernels.shape[0]\n",
    "    n_out_channels=kernels.shape[1]\n",
    "    \n",
    "    nm_kernel=Normalize(vmin=kernels.min(), vmax=kernels.max(), clip=False)\n",
    "    \n",
    "    fig,ax=plt.subplots(nrows=3*n_out_channels,ncols=n_in_channels,figsize=(n_in_channels,3*n_out_channels),squeeze=False)\n",
    "    \n",
    "    for out_ in range(n_out_channels):\n",
    "        for in_ in range(n_in_channels):\n",
    "            for j in range(3):\n",
    "                ax[j+out_,in_].tick_params(axis='x',bottom = False, top = False)\n",
    "                ax[j+out_,in_].tick_params(axis='y',left= False, right = False)\n",
    "                ax[j+out_,in_].imshow(kernels[in_,out_,j],'gray')#,norm=nm_kernel)\n",
    "                ax[j+out_,in_].set_xticklabels([])\n",
    "                ax[j+out_,in_].set_yticklabels([])\n",
    "\n",
    "    plt.subplots_adjust(wspace=0., hspace=0.3)\n"
   ]
  },
  {
   "cell_type": "code",
   "execution_count": 56,
   "id": "considered-sigma",
   "metadata": {},
   "outputs": [
    {
     "ename": "IndexError",
     "evalue": "too many indices for tensor of dimension 1",
     "output_type": "error",
     "traceback": [
      "\u001b[0;31m---------------------------------------------------------------------------\u001b[0m",
      "\u001b[0;31mIndexError\u001b[0m                                Traceback (most recent call last)",
      "\u001b[0;32m<ipython-input-56-a3f7ca9ce48d>\u001b[0m in \u001b[0;36m<module>\u001b[0;34m\u001b[0m\n\u001b[1;32m      1\u001b[0m \u001b[0mkernels\u001b[0m\u001b[0;34m=\u001b[0m\u001b[0mmodel\u001b[0m\u001b[0;34m.\u001b[0m\u001b[0mmodule\u001b[0m\u001b[0;34m.\u001b[0m\u001b[0mfeature_extractor\u001b[0m\u001b[0;34m[\u001b[0m\u001b[0;36m0\u001b[0m\u001b[0;34m]\u001b[0m\u001b[0;34m[\u001b[0m\u001b[0;36m1\u001b[0m\u001b[0;34m]\u001b[0m\u001b[0;34m.\u001b[0m\u001b[0mweight\u001b[0m\u001b[0;34m.\u001b[0m\u001b[0mdata\u001b[0m\u001b[0;34m.\u001b[0m\u001b[0mcpu\u001b[0m\u001b[0;34m(\u001b[0m\u001b[0;34m)\u001b[0m\u001b[0;34m.\u001b[0m\u001b[0mdetach\u001b[0m\u001b[0;34m(\u001b[0m\u001b[0;34m)\u001b[0m\u001b[0;34m\u001b[0m\u001b[0;34m\u001b[0m\u001b[0m\n\u001b[0;32m----> 2\u001b[0;31m \u001b[0mkernels\u001b[0m\u001b[0;34m=\u001b[0m\u001b[0mkernels\u001b[0m\u001b[0;34m[\u001b[0m\u001b[0;34m:\u001b[0m\u001b[0;34m,\u001b[0m\u001b[0;34m:\u001b[0m\u001b[0;36m10\u001b[0m\u001b[0;34m]\u001b[0m\u001b[0;34m\u001b[0m\u001b[0;34m\u001b[0m\u001b[0m\n\u001b[0m\u001b[1;32m      3\u001b[0m \u001b[0mplot_3d_kernels\u001b[0m\u001b[0;34m(\u001b[0m\u001b[0mkernels\u001b[0m\u001b[0;34m)\u001b[0m\u001b[0;34m\u001b[0m\u001b[0;34m\u001b[0m\u001b[0m\n",
      "\u001b[0;31mIndexError\u001b[0m: too many indices for tensor of dimension 1"
     ]
    }
   ],
   "source": [
    "kernels=model.module.feature_extractor[0][1].weight.data.cpu().detach()\n",
    "kernels=kernels[:,:10]\n",
    "plot_3d_kernels(kernels)\n"
   ]
  }
 ],
 "metadata": {
  "kernelspec": {
   "display_name": "Python 3",
   "language": "python",
   "name": "python3"
  },
  "language_info": {
   "codemirror_mode": {
    "name": "ipython",
    "version": 3
   },
   "file_extension": ".py",
   "mimetype": "text/x-python",
   "name": "python",
   "nbconvert_exporter": "python",
   "pygments_lexer": "ipython3",
   "version": "3.7.4"
  }
 },
 "nbformat": 4,
 "nbformat_minor": 5
}
